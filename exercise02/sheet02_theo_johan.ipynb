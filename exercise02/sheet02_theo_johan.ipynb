{
 "cells": [
  {
   "cell_type": "markdown",
   "metadata": {},
   "source": [
    "# Exercise Sheet 2"
   ]
  },
  {
   "cell_type": "markdown",
   "metadata": {},
   "source": [
    "# Exercise 1: Maximum-Likelihood Estimation\n",
    "    \n",
    "$p(x,y) = \\lambda \\eta e^{-\\lambda x - \\eta y}$ and $D=((x_1,y_1),...,(x_N,y_N))$\n",
    "\n",
    "(a) Indipendency of $x$ and $y$:\n",
    "\n",
    "Two variables $x$ and $y$ are said to be indeptendent if the folling equation is true:\n",
    "\n",
    "$p(x,y) = p(x)p(y)$\n",
    "\n",
    "A continuous probabiltiy $p(x)$ is defined as follows:\n",
    "\n",
    "$p(x) = \\int_{-\\infty}^\\infty p(x,y) dy$\n",
    "\n",
    "But the probability distribution is just defined for $(x,y) \\in \\mathbb{R}^2_+$, hence, we just integrate over the positive real numbers:\n",
    "\n",
    "$$\n",
    "p(x)= \n",
    "\\int_{0}^\\infty p(x,y) dy =\n",
    "\\int_{0}^\\infty \\lambda \\eta e^{-\\lambda x - \\eta y} dy =\n",
    "\\lambda \\eta e^{-\\lambda x}\\int_{0}^\\infty  e^{- \\eta y} dy =\n",
    "$$\n",
    "$$\n",
    "\\lambda e^{-\\lambda x} \\cdot \\Big[ \\frac{e^{- \\eta y}}{-\\eta}\\Big]_0^\\infty =\n",
    "\\lambda e^{-\\lambda x}\n",
    "$$\n",
    "\n",
    "And in a similar fashion, we integrate $p(y)$:\n",
    "\n",
    "$$\n",
    "p(y)= \n",
    "\\int_{0}^\\infty p(x,y) dx =\n",
    "\\int_{0}^\\infty \\lambda \\eta e^{-\\lambda x - \\eta y} dx =\n",
    "\\lambda \\eta e^{- \\eta y}\\int_{0}^\\infty  e^{-\\lambda x} dx =\n",
    "\\eta e^{-\\eta y}\n",
    "$$\n",
    "\n",
    "Putting the two results together, we see that the equation which shows independence between the variables ($p(x,y) = p(x)p(y)$), still holds:\n",
    "\n",
    "$$\n",
    "p(x,y) = \n",
    "\\lambda \\eta e^{-\\lambda x - \\eta y} = \n",
    "p(x)p(y) =\n",
    "\\lambda e^{-\\lambda x} \\cdot \\eta e^{-\\eta y}\n",
    "$$"
   ]
  },
  {
   "cell_type": "markdown",
   "metadata": {},
   "source": []
  },
  {
   "cell_type": "code",
   "execution_count": null,
   "metadata": {},
   "outputs": [],
   "source": []
  }
 ],
 "metadata": {
  "kernelspec": {
   "display_name": "Python 3",
   "language": "python",
   "name": "python3"
  },
  "language_info": {
   "codemirror_mode": {
    "name": "ipython",
    "version": 3
   },
   "file_extension": ".py",
   "mimetype": "text/x-python",
   "name": "python",
   "nbconvert_exporter": "python",
   "pygments_lexer": "ipython3",
   "version": "3.6.3"
  }
 },
 "nbformat": 4,
 "nbformat_minor": 2
}
