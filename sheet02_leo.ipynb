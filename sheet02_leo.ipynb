{
 "cells": [
  {
   "cell_type": "markdown",
   "metadata": {},
   "source": [
    "# Exercise Sheet 2"
   ]
  },
  {
   "cell_type": "markdown",
   "metadata": {},
   "source": [
    "# Exercise 1: Maximum-Likelihood Estimation\n",
    "    \n",
    "$p(x,y) = \\lambda \\eta e^{-\\lambda x - \\eta y}$ and $D=((x_1,y_1),...,(x_N,y_N))$\n",
    "\n",
    "(a) Indipendency of $x$ and $y$:\n",
    "    \n",
    "$p(x,y) = \\lambda \\eta e^{-\\lambda x - \\eta y} = \\lambda e^{-\\lambda x} \\cdot \\eta e^{- \\eta y} = p(x) \\cdot p(y)$\n",
    "\n",
    "Following the definition, the events $x$ and $y$ are independent.\n",
    "\n",
    "(b) Derivation of MLE of $\\lambda$ based on $D$:\n",
    "\n",
    "$p(\\lambda |D) = \\prod_{i=1}^{N} \\lambda \\eta e^{-\\lambda x_i - \\eta y_i} =  \\lambda ^N e^{-\\lambda \\sum_{i=1}^{N} x_i} \\cdot \\eta ^N e^{-\\eta \\sum_{i=1}^{N} y_i}$\n",
    "\n",
    "(c) Derivation of MLE of $\\lambda$ based on $D$ under the constraint $\\eta = \\lambda ^{-1}$:\n",
    "\n",
    "$p(\\lambda |D, \\eta = \\lambda ^{-1}) = \\prod_{i=1}^{N} \\lambda \\lambda ^{-1} e^{-\\lambda x_i - \\lambda ^{-1} y_i} = e^{-\\sum_{i=1}^{N} \\lambda x_i -\\sum_{i=1}^{N} \\lambda ^{-1} y_i}$\n",
    "\n",
    "(d) Derivation of MLE of $\\lambda$ based on $D$ under the constraint $\\eta = 1 -\\lambda $:\n",
    "\n",
    "$p(\\lambda |D, \\eta = 1 -\\lambda) = \\prod_{i=1}^{N} \\lambda (1-\\lambda) e^{-\\lambda x_i - (1-\\lambda) y_i} = (\\lambda - \\lambda^2)^N e^{\\sum_{i=1}^{N} x_i + y_i}$"
   ]
  },
  {
   "cell_type": "markdown",
   "metadata": {},
   "source": [
    "# Exercise 2: Maximum Likelihood vs. Bayes\n",
    "\n",
    "$D = (h,h,t,t,h,h,h)$\n",
    "\n",
    "following Bernoulli distribution:\n",
    "\n",
    "$P(x|\\theta) = \\begin{cases}\n",
    "        \\theta \\ \\ \\ \\ \\ \\ \\ \\ \\text{for } x = head\\\\\n",
    "        1 - \\theta \\ \\ \\text{for } x = tail\n",
    "        \\end{cases}$\n",
    "        \n",
    "(a) Likelihoodfunction $P(D|\\theta)$ that depends on $\\theta \\in [0,1]$:\n",
    "\n",
    "$P(D|\\theta) = 21 \\theta^5 (1-\\theta)^2$\n",
    "\n",
    "(b) MLE solution $\\overline{\\theta}$:\n",
    "\n",
    "$\\text{maximize} \\prod_{i=1}^{N} p(x = head) = \\theta ^5 (1-\\theta) ^2 \\rightarrow \\overline{\\theta}= \\frac{5}{7}$\n",
    "\n",
    "Evaluation of $P(x_8 = head, x_9 = head | \\overline{\\theta}$:\n",
    "\n",
    "$P(x_8 = head, x_9 = head | \\overline{\\theta} = (\\frac{5}{7}) ^2 = \\frac{25}{49}$\n",
    "\n",
    "(c)Bayesian View with prior distribution\n",
    "\n",
    "$p(\\theta) = \\begin{cases}\n",
    "        1 \\ \\ \\text{if   } 0 \\leq \\theta \\leq 1\\\\\n",
    "        0 \\ \\ \\text{else.}\n",
    "        \\end{cases}$\n",
    "\n",
    "Computation of posterior distribution $p(\\theta|D)$:\n",
    "\n",
    "$p(\\theta|D) = \\frac{p(D|\\theta) \\cdot P(\\theta)}{P(D)}$\n",
    "\n",
    "with\n",
    "\n",
    "$P(\\theta) = 1 [?], p(D|\\theta) = (\\frac{5}{7})^5 \\cdot (\\frac{2}{7})^2 , P(D) = \\int P(D|\\theta = \\mu)\\cdot P(\\mu) d\\mu [?]$"
   ]
  }
 ],
 "metadata": {
  "kernelspec": {
   "display_name": "Python 3",
   "language": "python",
   "name": "python3"
  },
  "language_info": {
   "codemirror_mode": {
    "name": "ipython",
    "version": 3
   },
   "file_extension": ".py",
   "mimetype": "text/x-python",
   "name": "python",
   "nbconvert_exporter": "python",
   "pygments_lexer": "ipython3",
   "version": "3.6.4"
  }
 },
 "nbformat": 4,
 "nbformat_minor": 2
}
